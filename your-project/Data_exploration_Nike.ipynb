{
 "cells": [
  {
   "cell_type": "markdown",
   "metadata": {},
   "source": [
    "### Importing libraries:"
   ]
  },
  {
   "cell_type": "code",
   "execution_count": 179,
   "metadata": {},
   "outputs": [],
   "source": [
    "import pandas as pd\n",
    "import numpy as np\n",
    "import datetime as dt\n",
    "from datetime import datetime, timedelta\n",
    "import seaborn as sns\n",
    "import matplotlib.pyplot as plt"
   ]
  },
  {
   "cell_type": "markdown",
   "metadata": {},
   "source": [
    "### Dataset Google Trends Nike (last 5 years):"
   ]
  },
  {
   "cell_type": "code",
   "execution_count": 196,
   "metadata": {},
   "outputs": [
    {
     "data": {
      "text/html": [
       "<div>\n",
       "<style scoped>\n",
       "    .dataframe tbody tr th:only-of-type {\n",
       "        vertical-align: middle;\n",
       "    }\n",
       "\n",
       "    .dataframe tbody tr th {\n",
       "        vertical-align: top;\n",
       "    }\n",
       "\n",
       "    .dataframe thead th {\n",
       "        text-align: right;\n",
       "    }\n",
       "</style>\n",
       "<table border=\"1\" class=\"dataframe\">\n",
       "  <thead>\n",
       "    <tr style=\"text-align: right;\">\n",
       "      <th></th>\n",
       "      <th>Semana</th>\n",
       "      <th>nike: (Todo el mundo)</th>\n",
       "    </tr>\n",
       "  </thead>\n",
       "  <tbody>\n",
       "    <tr>\n",
       "      <th>0</th>\n",
       "      <td>2015-08-02</td>\n",
       "      <td>51</td>\n",
       "    </tr>\n",
       "    <tr>\n",
       "      <th>1</th>\n",
       "      <td>2015-08-09</td>\n",
       "      <td>52</td>\n",
       "    </tr>\n",
       "    <tr>\n",
       "      <th>2</th>\n",
       "      <td>2015-08-16</td>\n",
       "      <td>51</td>\n",
       "    </tr>\n",
       "    <tr>\n",
       "      <th>3</th>\n",
       "      <td>2015-08-23</td>\n",
       "      <td>52</td>\n",
       "    </tr>\n",
       "    <tr>\n",
       "      <th>4</th>\n",
       "      <td>2015-08-30</td>\n",
       "      <td>51</td>\n",
       "    </tr>\n",
       "  </tbody>\n",
       "</table>\n",
       "</div>"
      ],
      "text/plain": [
       "       Semana  nike: (Todo el mundo)\n",
       "0  2015-08-02                     51\n",
       "1  2015-08-09                     52\n",
       "2  2015-08-16                     51\n",
       "3  2015-08-23                     52\n",
       "4  2015-08-30                     51"
      ]
     },
     "execution_count": 196,
     "metadata": {},
     "output_type": "execute_result"
    }
   ],
   "source": [
    "#Importing google trends csv and dropping first row: 'Categoría: Todas las categorías'\n",
    "google_trends = pd.read_csv(\"Data/google_trends_nike_5lastyears.csv\", skiprows=2)\n",
    "google_trends.head()"
   ]
  },
  {
   "cell_type": "code",
   "execution_count": 197,
   "metadata": {},
   "outputs": [
    {
     "data": {
      "text/plain": [
       "Index(['Semana', 'nike: (Todo el mundo)'], dtype='object')"
      ]
     },
     "execution_count": 197,
     "metadata": {},
     "output_type": "execute_result"
    }
   ],
   "source": [
    "google_trends.columns"
   ]
  },
  {
   "cell_type": "code",
   "execution_count": 198,
   "metadata": {},
   "outputs": [
    {
     "data": {
      "text/html": [
       "<div>\n",
       "<style scoped>\n",
       "    .dataframe tbody tr th:only-of-type {\n",
       "        vertical-align: middle;\n",
       "    }\n",
       "\n",
       "    .dataframe tbody tr th {\n",
       "        vertical-align: top;\n",
       "    }\n",
       "\n",
       "    .dataframe thead th {\n",
       "        text-align: right;\n",
       "    }\n",
       "</style>\n",
       "<table border=\"1\" class=\"dataframe\">\n",
       "  <thead>\n",
       "    <tr style=\"text-align: right;\">\n",
       "      <th></th>\n",
       "      <th>Date</th>\n",
       "      <th>Google trends</th>\n",
       "    </tr>\n",
       "  </thead>\n",
       "  <tbody>\n",
       "    <tr>\n",
       "      <th>0</th>\n",
       "      <td>2015-08-02</td>\n",
       "      <td>51</td>\n",
       "    </tr>\n",
       "    <tr>\n",
       "      <th>1</th>\n",
       "      <td>2015-08-09</td>\n",
       "      <td>52</td>\n",
       "    </tr>\n",
       "    <tr>\n",
       "      <th>2</th>\n",
       "      <td>2015-08-16</td>\n",
       "      <td>51</td>\n",
       "    </tr>\n",
       "    <tr>\n",
       "      <th>3</th>\n",
       "      <td>2015-08-23</td>\n",
       "      <td>52</td>\n",
       "    </tr>\n",
       "    <tr>\n",
       "      <th>4</th>\n",
       "      <td>2015-08-30</td>\n",
       "      <td>51</td>\n",
       "    </tr>\n",
       "    <tr>\n",
       "      <th>...</th>\n",
       "      <td>...</td>\n",
       "      <td>...</td>\n",
       "    </tr>\n",
       "    <tr>\n",
       "      <th>255</th>\n",
       "      <td>2020-06-21</td>\n",
       "      <td>56</td>\n",
       "    </tr>\n",
       "    <tr>\n",
       "      <th>256</th>\n",
       "      <td>2020-06-28</td>\n",
       "      <td>58</td>\n",
       "    </tr>\n",
       "    <tr>\n",
       "      <th>257</th>\n",
       "      <td>2020-07-05</td>\n",
       "      <td>57</td>\n",
       "    </tr>\n",
       "    <tr>\n",
       "      <th>258</th>\n",
       "      <td>2020-07-12</td>\n",
       "      <td>58</td>\n",
       "    </tr>\n",
       "    <tr>\n",
       "      <th>259</th>\n",
       "      <td>2020-07-19</td>\n",
       "      <td>59</td>\n",
       "    </tr>\n",
       "  </tbody>\n",
       "</table>\n",
       "<p>260 rows × 2 columns</p>\n",
       "</div>"
      ],
      "text/plain": [
       "           Date  Google trends\n",
       "0    2015-08-02             51\n",
       "1    2015-08-09             52\n",
       "2    2015-08-16             51\n",
       "3    2015-08-23             52\n",
       "4    2015-08-30             51\n",
       "..          ...            ...\n",
       "255  2020-06-21             56\n",
       "256  2020-06-28             58\n",
       "257  2020-07-05             57\n",
       "258  2020-07-12             58\n",
       "259  2020-07-19             59\n",
       "\n",
       "[260 rows x 2 columns]"
      ]
     },
     "execution_count": 198,
     "metadata": {},
     "output_type": "execute_result"
    }
   ],
   "source": [
    "#Renaming columns\n",
    "google_trends.rename(columns = {'Semana':'Date', 'nike: (Todo el mundo)': 'Google trends'}, inplace=True)\n",
    "google_trends"
   ]
  },
  {
   "cell_type": "code",
   "execution_count": 199,
   "metadata": {},
   "outputs": [
    {
     "name": "stdout",
     "output_type": "stream",
     "text": [
      "<class 'pandas.core.frame.DataFrame'>\n",
      "RangeIndex: 260 entries, 0 to 259\n",
      "Data columns (total 2 columns):\n",
      " #   Column         Non-Null Count  Dtype \n",
      "---  ------         --------------  ----- \n",
      " 0   Date           260 non-null    object\n",
      " 1   Google trends  260 non-null    int64 \n",
      "dtypes: int64(1), object(1)\n",
      "memory usage: 4.2+ KB\n"
     ]
    }
   ],
   "source": [
    "google_trends.info()"
   ]
  },
  {
   "cell_type": "markdown",
   "metadata": {},
   "source": [
    "### Dataset stock market Nike (last 5 years):"
   ]
  },
  {
   "cell_type": "code",
   "execution_count": 184,
   "metadata": {},
   "outputs": [
    {
     "data": {
      "text/html": [
       "<div>\n",
       "<style scoped>\n",
       "    .dataframe tbody tr th:only-of-type {\n",
       "        vertical-align: middle;\n",
       "    }\n",
       "\n",
       "    .dataframe tbody tr th {\n",
       "        vertical-align: top;\n",
       "    }\n",
       "\n",
       "    .dataframe thead th {\n",
       "        text-align: right;\n",
       "    }\n",
       "</style>\n",
       "<table border=\"1\" class=\"dataframe\">\n",
       "  <thead>\n",
       "    <tr style=\"text-align: right;\">\n",
       "      <th></th>\n",
       "      <th>Date</th>\n",
       "      <th>Price</th>\n",
       "      <th>Open</th>\n",
       "      <th>High</th>\n",
       "      <th>Low</th>\n",
       "      <th>Vol.</th>\n",
       "      <th>Change %</th>\n",
       "    </tr>\n",
       "  </thead>\n",
       "  <tbody>\n",
       "    <tr>\n",
       "      <th>0</th>\n",
       "      <td>Jul 19, 2020</td>\n",
       "      <td>98.43</td>\n",
       "      <td>95.50</td>\n",
       "      <td>100.18</td>\n",
       "      <td>95.11</td>\n",
       "      <td>25.95M</td>\n",
       "      <td>2.23%</td>\n",
       "    </tr>\n",
       "    <tr>\n",
       "      <th>1</th>\n",
       "      <td>Jul 12, 2020</td>\n",
       "      <td>96.28</td>\n",
       "      <td>98.25</td>\n",
       "      <td>99.04</td>\n",
       "      <td>95.51</td>\n",
       "      <td>26.04M</td>\n",
       "      <td>-1.75%</td>\n",
       "    </tr>\n",
       "    <tr>\n",
       "      <th>2</th>\n",
       "      <td>Jul 05, 2020</td>\n",
       "      <td>97.99</td>\n",
       "      <td>99.62</td>\n",
       "      <td>100.03</td>\n",
       "      <td>95.72</td>\n",
       "      <td>27.23M</td>\n",
       "      <td>-0.45%</td>\n",
       "    </tr>\n",
       "    <tr>\n",
       "      <th>3</th>\n",
       "      <td>Jun 28, 2020</td>\n",
       "      <td>98.43</td>\n",
       "      <td>93.70</td>\n",
       "      <td>99.66</td>\n",
       "      <td>93.70</td>\n",
       "      <td>29.78M</td>\n",
       "      <td>5.08%</td>\n",
       "    </tr>\n",
       "    <tr>\n",
       "      <th>4</th>\n",
       "      <td>Jun 21, 2020</td>\n",
       "      <td>93.67</td>\n",
       "      <td>96.85</td>\n",
       "      <td>102.22</td>\n",
       "      <td>93.57</td>\n",
       "      <td>58.48M</td>\n",
       "      <td>-2.20%</td>\n",
       "    </tr>\n",
       "  </tbody>\n",
       "</table>\n",
       "</div>"
      ],
      "text/plain": [
       "           Date  Price   Open    High    Low    Vol. Change %\n",
       "0  Jul 19, 2020  98.43  95.50  100.18  95.11  25.95M    2.23%\n",
       "1  Jul 12, 2020  96.28  98.25   99.04  95.51  26.04M   -1.75%\n",
       "2  Jul 05, 2020  97.99  99.62  100.03  95.72  27.23M   -0.45%\n",
       "3  Jun 28, 2020  98.43  93.70   99.66  93.70  29.78M    5.08%\n",
       "4  Jun 21, 2020  93.67  96.85  102.22  93.57  58.48M   -2.20%"
      ]
     },
     "execution_count": 184,
     "metadata": {},
     "output_type": "execute_result"
    }
   ],
   "source": [
    "stockmarket = pd.read_csv(\"Data/stock_market_nike_5lastyears.csv\")\n",
    "stockmarket.head()"
   ]
  },
  {
   "cell_type": "code",
   "execution_count": 186,
   "metadata": {},
   "outputs": [],
   "source": [
    "#Deleting string 'M' from 'Vol.' column\n",
    "stockmarket['Vol.'] = stockmarket['Vol.'].str.replace(r\"M\",\"\")"
   ]
  },
  {
   "cell_type": "code",
   "execution_count": 187,
   "metadata": {},
   "outputs": [],
   "source": [
    "#Convert the strings in 'Vol.' to integers\n",
    "stockmarket['Vol.'] = pd.to_numeric(stockmarket['Vol.'])"
   ]
  },
  {
   "cell_type": "code",
   "execution_count": 188,
   "metadata": {},
   "outputs": [
    {
     "name": "stdout",
     "output_type": "stream",
     "text": [
      "<class 'pandas.core.frame.DataFrame'>\n",
      "RangeIndex: 260 entries, 0 to 259\n",
      "Data columns (total 7 columns):\n",
      " #   Column    Non-Null Count  Dtype  \n",
      "---  ------    --------------  -----  \n",
      " 0   Date      260 non-null    object \n",
      " 1   Price     260 non-null    float64\n",
      " 2   Open      260 non-null    float64\n",
      " 3   High      260 non-null    float64\n",
      " 4   Low       260 non-null    float64\n",
      " 5   Vol.      260 non-null    float64\n",
      " 6   Change %  260 non-null    object \n",
      "dtypes: float64(5), object(2)\n",
      "memory usage: 14.3+ KB\n"
     ]
    }
   ],
   "source": [
    "stockmarket.info()"
   ]
  },
  {
   "cell_type": "markdown",
   "metadata": {},
   "source": [
    "### Merge:"
   ]
  },
  {
   "cell_type": "code",
   "execution_count": 200,
   "metadata": {},
   "outputs": [
    {
     "data": {
      "text/html": [
       "<div>\n",
       "<style scoped>\n",
       "    .dataframe tbody tr th:only-of-type {\n",
       "        vertical-align: middle;\n",
       "    }\n",
       "\n",
       "    .dataframe tbody tr th {\n",
       "        vertical-align: top;\n",
       "    }\n",
       "\n",
       "    .dataframe thead th {\n",
       "        text-align: right;\n",
       "    }\n",
       "</style>\n",
       "<table border=\"1\" class=\"dataframe\">\n",
       "  <thead>\n",
       "    <tr style=\"text-align: right;\">\n",
       "      <th></th>\n",
       "      <th>Date</th>\n",
       "      <th>Google trends</th>\n",
       "    </tr>\n",
       "  </thead>\n",
       "  <tbody>\n",
       "    <tr>\n",
       "      <th>0</th>\n",
       "      <td>2015-08-02</td>\n",
       "      <td>51</td>\n",
       "    </tr>\n",
       "    <tr>\n",
       "      <th>1</th>\n",
       "      <td>2015-08-09</td>\n",
       "      <td>52</td>\n",
       "    </tr>\n",
       "    <tr>\n",
       "      <th>2</th>\n",
       "      <td>2015-08-16</td>\n",
       "      <td>51</td>\n",
       "    </tr>\n",
       "    <tr>\n",
       "      <th>3</th>\n",
       "      <td>2015-08-23</td>\n",
       "      <td>52</td>\n",
       "    </tr>\n",
       "    <tr>\n",
       "      <th>4</th>\n",
       "      <td>2015-08-30</td>\n",
       "      <td>51</td>\n",
       "    </tr>\n",
       "  </tbody>\n",
       "</table>\n",
       "</div>"
      ],
      "text/plain": [
       "        Date  Google trends\n",
       "0 2015-08-02             51\n",
       "1 2015-08-09             52\n",
       "2 2015-08-16             51\n",
       "3 2015-08-23             52\n",
       "4 2015-08-30             51"
      ]
     },
     "execution_count": 200,
     "metadata": {},
     "output_type": "execute_result"
    }
   ],
   "source": [
    "#Need same date format in both datasets\n",
    "google_trends['Date'] = pd.to_datetime(google_trends['Date'])\n",
    "google_trends.head()"
   ]
  },
  {
   "cell_type": "code",
   "execution_count": 192,
   "metadata": {},
   "outputs": [],
   "source": [
    "stockmarket['Date'] = pd.to_datetime(stockmarket['Date'])"
   ]
  },
  {
   "cell_type": "code",
   "execution_count": 193,
   "metadata": {},
   "outputs": [
    {
     "data": {
      "text/html": [
       "<div>\n",
       "<style scoped>\n",
       "    .dataframe tbody tr th:only-of-type {\n",
       "        vertical-align: middle;\n",
       "    }\n",
       "\n",
       "    .dataframe tbody tr th {\n",
       "        vertical-align: top;\n",
       "    }\n",
       "\n",
       "    .dataframe thead th {\n",
       "        text-align: right;\n",
       "    }\n",
       "</style>\n",
       "<table border=\"1\" class=\"dataframe\">\n",
       "  <thead>\n",
       "    <tr style=\"text-align: right;\">\n",
       "      <th></th>\n",
       "      <th>Date</th>\n",
       "      <th>Price</th>\n",
       "      <th>Open</th>\n",
       "      <th>High</th>\n",
       "      <th>Low</th>\n",
       "      <th>Vol.</th>\n",
       "      <th>Change %</th>\n",
       "    </tr>\n",
       "  </thead>\n",
       "  <tbody>\n",
       "    <tr>\n",
       "      <th>259</th>\n",
       "      <td>2015-08-02</td>\n",
       "      <td>57.26</td>\n",
       "      <td>57.76</td>\n",
       "      <td>58.86</td>\n",
       "      <td>56.55</td>\n",
       "      <td>29.19</td>\n",
       "      <td>-0.61%</td>\n",
       "    </tr>\n",
       "    <tr>\n",
       "      <th>258</th>\n",
       "      <td>2015-08-09</td>\n",
       "      <td>57.18</td>\n",
       "      <td>57.70</td>\n",
       "      <td>58.09</td>\n",
       "      <td>55.33</td>\n",
       "      <td>27.49</td>\n",
       "      <td>-0.14%</td>\n",
       "    </tr>\n",
       "    <tr>\n",
       "      <th>257</th>\n",
       "      <td>2015-08-16</td>\n",
       "      <td>53.44</td>\n",
       "      <td>57.06</td>\n",
       "      <td>58.02</td>\n",
       "      <td>53.42</td>\n",
       "      <td>36.26</td>\n",
       "      <td>-6.54%</td>\n",
       "    </tr>\n",
       "    <tr>\n",
       "      <th>256</th>\n",
       "      <td>2015-08-23</td>\n",
       "      <td>56.25</td>\n",
       "      <td>50.13</td>\n",
       "      <td>56.50</td>\n",
       "      <td>47.25</td>\n",
       "      <td>69.80</td>\n",
       "      <td>5.26%</td>\n",
       "    </tr>\n",
       "    <tr>\n",
       "      <th>255</th>\n",
       "      <td>2015-08-30</td>\n",
       "      <td>54.84</td>\n",
       "      <td>56.20</td>\n",
       "      <td>56.24</td>\n",
       "      <td>54.02</td>\n",
       "      <td>38.19</td>\n",
       "      <td>-2.51%</td>\n",
       "    </tr>\n",
       "  </tbody>\n",
       "</table>\n",
       "</div>"
      ],
      "text/plain": [
       "          Date  Price   Open   High    Low   Vol. Change %\n",
       "259 2015-08-02  57.26  57.76  58.86  56.55  29.19   -0.61%\n",
       "258 2015-08-09  57.18  57.70  58.09  55.33  27.49   -0.14%\n",
       "257 2015-08-16  53.44  57.06  58.02  53.42  36.26   -6.54%\n",
       "256 2015-08-23  56.25  50.13  56.50  47.25  69.80    5.26%\n",
       "255 2015-08-30  54.84  56.20  56.24  54.02  38.19   -2.51%"
      ]
     },
     "execution_count": 193,
     "metadata": {},
     "output_type": "execute_result"
    }
   ],
   "source": [
    "#Changing the order of 'Date' column to have same order as in google_trends 'Date'\n",
    "stock_market = stockmarket.sort_values('Date',ascending=True)\n",
    "stock_market.head()"
   ]
  },
  {
   "cell_type": "code",
   "execution_count": 201,
   "metadata": {},
   "outputs": [
    {
     "data": {
      "text/html": [
       "<div>\n",
       "<style scoped>\n",
       "    .dataframe tbody tr th:only-of-type {\n",
       "        vertical-align: middle;\n",
       "    }\n",
       "\n",
       "    .dataframe tbody tr th {\n",
       "        vertical-align: top;\n",
       "    }\n",
       "\n",
       "    .dataframe thead th {\n",
       "        text-align: right;\n",
       "    }\n",
       "</style>\n",
       "<table border=\"1\" class=\"dataframe\">\n",
       "  <thead>\n",
       "    <tr style=\"text-align: right;\">\n",
       "      <th></th>\n",
       "      <th>Date</th>\n",
       "      <th>Google trends</th>\n",
       "      <th>Price</th>\n",
       "      <th>Open</th>\n",
       "      <th>High</th>\n",
       "      <th>Low</th>\n",
       "      <th>Vol.</th>\n",
       "      <th>Change %</th>\n",
       "    </tr>\n",
       "  </thead>\n",
       "  <tbody>\n",
       "    <tr>\n",
       "      <th>0</th>\n",
       "      <td>2015-08-02</td>\n",
       "      <td>51</td>\n",
       "      <td>57.26</td>\n",
       "      <td>57.76</td>\n",
       "      <td>58.86</td>\n",
       "      <td>56.55</td>\n",
       "      <td>29.19</td>\n",
       "      <td>-0.61%</td>\n",
       "    </tr>\n",
       "    <tr>\n",
       "      <th>1</th>\n",
       "      <td>2015-08-09</td>\n",
       "      <td>52</td>\n",
       "      <td>57.18</td>\n",
       "      <td>57.70</td>\n",
       "      <td>58.09</td>\n",
       "      <td>55.33</td>\n",
       "      <td>27.49</td>\n",
       "      <td>-0.14%</td>\n",
       "    </tr>\n",
       "    <tr>\n",
       "      <th>2</th>\n",
       "      <td>2015-08-16</td>\n",
       "      <td>51</td>\n",
       "      <td>53.44</td>\n",
       "      <td>57.06</td>\n",
       "      <td>58.02</td>\n",
       "      <td>53.42</td>\n",
       "      <td>36.26</td>\n",
       "      <td>-6.54%</td>\n",
       "    </tr>\n",
       "    <tr>\n",
       "      <th>3</th>\n",
       "      <td>2015-08-23</td>\n",
       "      <td>52</td>\n",
       "      <td>56.25</td>\n",
       "      <td>50.13</td>\n",
       "      <td>56.50</td>\n",
       "      <td>47.25</td>\n",
       "      <td>69.80</td>\n",
       "      <td>5.26%</td>\n",
       "    </tr>\n",
       "    <tr>\n",
       "      <th>4</th>\n",
       "      <td>2015-08-30</td>\n",
       "      <td>51</td>\n",
       "      <td>54.84</td>\n",
       "      <td>56.20</td>\n",
       "      <td>56.24</td>\n",
       "      <td>54.02</td>\n",
       "      <td>38.19</td>\n",
       "      <td>-2.51%</td>\n",
       "    </tr>\n",
       "    <tr>\n",
       "      <th>...</th>\n",
       "      <td>...</td>\n",
       "      <td>...</td>\n",
       "      <td>...</td>\n",
       "      <td>...</td>\n",
       "      <td>...</td>\n",
       "      <td>...</td>\n",
       "      <td>...</td>\n",
       "      <td>...</td>\n",
       "    </tr>\n",
       "    <tr>\n",
       "      <th>255</th>\n",
       "      <td>2020-06-21</td>\n",
       "      <td>56</td>\n",
       "      <td>93.67</td>\n",
       "      <td>96.85</td>\n",
       "      <td>102.22</td>\n",
       "      <td>93.57</td>\n",
       "      <td>58.48</td>\n",
       "      <td>-2.20%</td>\n",
       "    </tr>\n",
       "    <tr>\n",
       "      <th>256</th>\n",
       "      <td>2020-06-28</td>\n",
       "      <td>58</td>\n",
       "      <td>98.43</td>\n",
       "      <td>93.70</td>\n",
       "      <td>99.66</td>\n",
       "      <td>93.70</td>\n",
       "      <td>29.78</td>\n",
       "      <td>5.08%</td>\n",
       "    </tr>\n",
       "    <tr>\n",
       "      <th>257</th>\n",
       "      <td>2020-07-05</td>\n",
       "      <td>57</td>\n",
       "      <td>97.99</td>\n",
       "      <td>99.62</td>\n",
       "      <td>100.03</td>\n",
       "      <td>95.72</td>\n",
       "      <td>27.23</td>\n",
       "      <td>-0.45%</td>\n",
       "    </tr>\n",
       "    <tr>\n",
       "      <th>258</th>\n",
       "      <td>2020-07-12</td>\n",
       "      <td>58</td>\n",
       "      <td>96.28</td>\n",
       "      <td>98.25</td>\n",
       "      <td>99.04</td>\n",
       "      <td>95.51</td>\n",
       "      <td>26.04</td>\n",
       "      <td>-1.75%</td>\n",
       "    </tr>\n",
       "    <tr>\n",
       "      <th>259</th>\n",
       "      <td>2020-07-19</td>\n",
       "      <td>59</td>\n",
       "      <td>98.43</td>\n",
       "      <td>95.50</td>\n",
       "      <td>100.18</td>\n",
       "      <td>95.11</td>\n",
       "      <td>25.95</td>\n",
       "      <td>2.23%</td>\n",
       "    </tr>\n",
       "  </tbody>\n",
       "</table>\n",
       "<p>260 rows × 8 columns</p>\n",
       "</div>"
      ],
      "text/plain": [
       "          Date  Google trends  Price   Open    High    Low   Vol. Change %\n",
       "0   2015-08-02             51  57.26  57.76   58.86  56.55  29.19   -0.61%\n",
       "1   2015-08-09             52  57.18  57.70   58.09  55.33  27.49   -0.14%\n",
       "2   2015-08-16             51  53.44  57.06   58.02  53.42  36.26   -6.54%\n",
       "3   2015-08-23             52  56.25  50.13   56.50  47.25  69.80    5.26%\n",
       "4   2015-08-30             51  54.84  56.20   56.24  54.02  38.19   -2.51%\n",
       "..         ...            ...    ...    ...     ...    ...    ...      ...\n",
       "255 2020-06-21             56  93.67  96.85  102.22  93.57  58.48   -2.20%\n",
       "256 2020-06-28             58  98.43  93.70   99.66  93.70  29.78    5.08%\n",
       "257 2020-07-05             57  97.99  99.62  100.03  95.72  27.23   -0.45%\n",
       "258 2020-07-12             58  96.28  98.25   99.04  95.51  26.04   -1.75%\n",
       "259 2020-07-19             59  98.43  95.50  100.18  95.11  25.95    2.23%\n",
       "\n",
       "[260 rows x 8 columns]"
      ]
     },
     "execution_count": 201,
     "metadata": {},
     "output_type": "execute_result"
    }
   ],
   "source": [
    "#Merge\n",
    "nike = pd.merge(google_trends, stock_market, on='Date')\n",
    "nike"
   ]
  },
  {
   "cell_type": "code",
   "execution_count": 202,
   "metadata": {},
   "outputs": [],
   "source": [
    "#Exporting Nike dataset\n",
    "nike.to_csv(\"Data/nike_clean_dataset.csv\")"
   ]
  },
  {
   "cell_type": "code",
   "execution_count": 203,
   "metadata": {},
   "outputs": [
    {
     "name": "stdout",
     "output_type": "stream",
     "text": [
      "<class 'pandas.core.frame.DataFrame'>\n",
      "Int64Index: 260 entries, 0 to 259\n",
      "Data columns (total 8 columns):\n",
      " #   Column         Non-Null Count  Dtype         \n",
      "---  ------         --------------  -----         \n",
      " 0   Date           260 non-null    datetime64[ns]\n",
      " 1   Google trends  260 non-null    int64         \n",
      " 2   Price          260 non-null    float64       \n",
      " 3   Open           260 non-null    float64       \n",
      " 4   High           260 non-null    float64       \n",
      " 5   Low            260 non-null    float64       \n",
      " 6   Vol.           260 non-null    float64       \n",
      " 7   Change %       260 non-null    object        \n",
      "dtypes: datetime64[ns](1), float64(5), int64(1), object(1)\n",
      "memory usage: 18.3+ KB\n"
     ]
    }
   ],
   "source": [
    "nike.info()"
   ]
  },
  {
   "cell_type": "code",
   "execution_count": 204,
   "metadata": {},
   "outputs": [
    {
     "data": {
      "text/html": [
       "<div>\n",
       "<style scoped>\n",
       "    .dataframe tbody tr th:only-of-type {\n",
       "        vertical-align: middle;\n",
       "    }\n",
       "\n",
       "    .dataframe tbody tr th {\n",
       "        vertical-align: top;\n",
       "    }\n",
       "\n",
       "    .dataframe thead th {\n",
       "        text-align: right;\n",
       "    }\n",
       "</style>\n",
       "<table border=\"1\" class=\"dataframe\">\n",
       "  <thead>\n",
       "    <tr style=\"text-align: right;\">\n",
       "      <th></th>\n",
       "      <th>Google trends</th>\n",
       "      <th>Price</th>\n",
       "      <th>Open</th>\n",
       "      <th>High</th>\n",
       "      <th>Low</th>\n",
       "      <th>Vol.</th>\n",
       "    </tr>\n",
       "  </thead>\n",
       "  <tbody>\n",
       "    <tr>\n",
       "      <th>count</th>\n",
       "      <td>260.000000</td>\n",
       "      <td>260.000000</td>\n",
       "      <td>260.000000</td>\n",
       "      <td>260.000000</td>\n",
       "      <td>260.000000</td>\n",
       "      <td>260.000000</td>\n",
       "    </tr>\n",
       "    <tr>\n",
       "      <th>mean</th>\n",
       "      <td>50.850000</td>\n",
       "      <td>70.330346</td>\n",
       "      <td>70.091231</td>\n",
       "      <td>71.984154</td>\n",
       "      <td>68.402654</td>\n",
       "      <td>40.476923</td>\n",
       "    </tr>\n",
       "    <tr>\n",
       "      <th>std</th>\n",
       "      <td>6.270341</td>\n",
       "      <td>15.274797</td>\n",
       "      <td>15.150424</td>\n",
       "      <td>15.720461</td>\n",
       "      <td>14.861066</td>\n",
       "      <td>15.819003</td>\n",
       "    </tr>\n",
       "    <tr>\n",
       "      <th>min</th>\n",
       "      <td>39.000000</td>\n",
       "      <td>49.960000</td>\n",
       "      <td>50.130000</td>\n",
       "      <td>51.150000</td>\n",
       "      <td>47.250000</td>\n",
       "      <td>16.900000</td>\n",
       "    </tr>\n",
       "    <tr>\n",
       "      <th>25%</th>\n",
       "      <td>47.000000</td>\n",
       "      <td>56.472500</td>\n",
       "      <td>56.552500</td>\n",
       "      <td>58.072500</td>\n",
       "      <td>55.315000</td>\n",
       "      <td>29.570000</td>\n",
       "    </tr>\n",
       "    <tr>\n",
       "      <th>50%</th>\n",
       "      <td>50.000000</td>\n",
       "      <td>66.130000</td>\n",
       "      <td>65.860000</td>\n",
       "      <td>67.440000</td>\n",
       "      <td>64.220000</td>\n",
       "      <td>36.700000</td>\n",
       "    </tr>\n",
       "    <tr>\n",
       "      <th>75%</th>\n",
       "      <td>54.000000</td>\n",
       "      <td>83.605000</td>\n",
       "      <td>83.377500</td>\n",
       "      <td>85.757500</td>\n",
       "      <td>81.245000</td>\n",
       "      <td>47.315000</td>\n",
       "    </tr>\n",
       "    <tr>\n",
       "      <th>max</th>\n",
       "      <td>100.000000</td>\n",
       "      <td>104.530000</td>\n",
       "      <td>104.250000</td>\n",
       "      <td>105.620000</td>\n",
       "      <td>101.660000</td>\n",
       "      <td>104.320000</td>\n",
       "    </tr>\n",
       "  </tbody>\n",
       "</table>\n",
       "</div>"
      ],
      "text/plain": [
       "       Google trends       Price        Open        High         Low  \\\n",
       "count     260.000000  260.000000  260.000000  260.000000  260.000000   \n",
       "mean       50.850000   70.330346   70.091231   71.984154   68.402654   \n",
       "std         6.270341   15.274797   15.150424   15.720461   14.861066   \n",
       "min        39.000000   49.960000   50.130000   51.150000   47.250000   \n",
       "25%        47.000000   56.472500   56.552500   58.072500   55.315000   \n",
       "50%        50.000000   66.130000   65.860000   67.440000   64.220000   \n",
       "75%        54.000000   83.605000   83.377500   85.757500   81.245000   \n",
       "max       100.000000  104.530000  104.250000  105.620000  101.660000   \n",
       "\n",
       "             Vol.  \n",
       "count  260.000000  \n",
       "mean    40.476923  \n",
       "std     15.819003  \n",
       "min     16.900000  \n",
       "25%     29.570000  \n",
       "50%     36.700000  \n",
       "75%     47.315000  \n",
       "max    104.320000  "
      ]
     },
     "execution_count": 204,
     "metadata": {},
     "output_type": "execute_result"
    }
   ],
   "source": [
    "nike.describe()"
   ]
  },
  {
   "cell_type": "code",
   "execution_count": 205,
   "metadata": {
    "scrolled": true
   },
   "outputs": [
    {
     "data": {
      "image/png": "[encoded data removed]",
      "text/plain": [
       "<Figure size 432x288 with 2 Axes>"
      ]
     },
     "metadata": {
      "needs_background": "light"
     },
     "output_type": "display_data"
    }
   ],
   "source": [
    "corrMatrix = nike.corr()\n",
    "sn.heatmap(corrMatrix, annot=True)\n",
    "plt.show()"
   ]
  },
  {
   "cell_type": "code",
   "execution_count": 215,
   "metadata": {},
   "outputs": [
    {
     "data": {
      "image/png": "[encoded data removed]",
      "text/plain": [
       "<Figure size 864x576 with 2 Axes>"
      ]
     },
     "metadata": {
      "needs_background": "light"
     },
     "output_type": "display_data"
    }
   ],
   "source": [
    "fig, ax1 = plt.subplots(figsize=(12,8))\n",
    "\n",
    "color = 'tab:red'\n",
    "ax1.set_xlabel('Date')\n",
    "ax1.set_ylabel('Google trends', color=color)\n",
    "ax1.plot(nike['Date'], nike['Google trends'], color=color)\n",
    "ax1.tick_params(axis='y', labelcolor=color)\n",
    "\n",
    "ax2 = ax1.twinx()\n",
    "\n",
    "color = 'tab:blue'\n",
    "ax2.set_ylabel('Price', color=color)\n",
    "ax2.plot(nike['Date'], nike['Price'], color=color)\n",
    "ax2.tick_params(axis='y', labelcolor=color)\n",
    "\n",
    "fig.tight_layout()\n",
    "plt.show()"
   ]
  },
  {
   "cell_type": "markdown",
   "metadata": {},
   "source": [
    "### Colin Kaepernick 2018:"
   ]
  },
  {
   "cell_type": "code",
   "execution_count": 282,
   "metadata": {},
   "outputs": [
    {
     "data": {
      "text/html": [
       "<div>\n",
       "<style scoped>\n",
       "    .dataframe tbody tr th:only-of-type {\n",
       "        vertical-align: middle;\n",
       "    }\n",
       "\n",
       "    .dataframe tbody tr th {\n",
       "        vertical-align: top;\n",
       "    }\n",
       "\n",
       "    .dataframe thead th {\n",
       "        text-align: right;\n",
       "    }\n",
       "</style>\n",
       "<table border=\"1\" class=\"dataframe\">\n",
       "  <thead>\n",
       "    <tr style=\"text-align: right;\">\n",
       "      <th></th>\n",
       "      <th>Semana</th>\n",
       "      <th>Colin Kaepernick: (Todo el mundo)</th>\n",
       "    </tr>\n",
       "  </thead>\n",
       "  <tbody>\n",
       "    <tr>\n",
       "      <th>0</th>\n",
       "      <td>2018-01-07</td>\n",
       "      <td>2</td>\n",
       "    </tr>\n",
       "    <tr>\n",
       "      <th>1</th>\n",
       "      <td>2018-01-14</td>\n",
       "      <td>2</td>\n",
       "    </tr>\n",
       "    <tr>\n",
       "      <th>2</th>\n",
       "      <td>2018-01-21</td>\n",
       "      <td>2</td>\n",
       "    </tr>\n",
       "    <tr>\n",
       "      <th>3</th>\n",
       "      <td>2018-01-28</td>\n",
       "      <td>2</td>\n",
       "    </tr>\n",
       "    <tr>\n",
       "      <th>4</th>\n",
       "      <td>2018-02-04</td>\n",
       "      <td>3</td>\n",
       "    </tr>\n",
       "  </tbody>\n",
       "</table>\n",
       "</div>"
      ],
      "text/plain": [
       "       Semana  Colin Kaepernick: (Todo el mundo)\n",
       "0  2018-01-07                                  2\n",
       "1  2018-01-14                                  2\n",
       "2  2018-01-21                                  2\n",
       "3  2018-01-28                                  2\n",
       "4  2018-02-04                                  3"
      ]
     },
     "execution_count": 282,
     "metadata": {},
     "output_type": "execute_result"
    }
   ],
   "source": [
    "#Importing Google trends 'Colin Kaepernick' csv from 2018\n",
    "colin_kaepernick = pd.read_csv(\"Data/google_trends_colin_kaepernick_2018.csv\", skiprows=2)\n",
    "colin_kaepernick.head()"
   ]
  },
  {
   "cell_type": "code",
   "execution_count": 283,
   "metadata": {},
   "outputs": [
    {
     "data": {
      "text/plain": [
       "Index(['Semana', 'Colin Kaepernick: (Todo el mundo)'], dtype='object')"
      ]
     },
     "execution_count": 283,
     "metadata": {},
     "output_type": "execute_result"
    }
   ],
   "source": [
    "colin_kaepernick.columns"
   ]
  },
  {
   "cell_type": "code",
   "execution_count": 284,
   "metadata": {},
   "outputs": [
    {
     "data": {
      "text/plain": [
       "Index(['Date', 'Nike Colin Kaepernick'], dtype='object')"
      ]
     },
     "execution_count": 284,
     "metadata": {},
     "output_type": "execute_result"
    }
   ],
   "source": [
    "#Renaming columns\n",
    "colin_kaepernick.rename(columns = {'Semana':'Date', \n",
    "                                   'Colin Kaepernick: (Todo el mundo)': 'Nike Colin Kaepernick'}, inplace=True)\n",
    "colin_kaepernick.columns"
   ]
  },
  {
   "cell_type": "code",
   "execution_count": 285,
   "metadata": {},
   "outputs": [
    {
     "name": "stdout",
     "output_type": "stream",
     "text": [
      "<class 'pandas.core.frame.DataFrame'>\n",
      "RangeIndex: 52 entries, 0 to 51\n",
      "Data columns (total 2 columns):\n",
      " #   Column                 Non-Null Count  Dtype \n",
      "---  ------                 --------------  ----- \n",
      " 0   Date                   52 non-null     object\n",
      " 1   Nike Colin Kaepernick  52 non-null     int64 \n",
      "dtypes: int64(1), object(1)\n",
      "memory usage: 960.0+ bytes\n"
     ]
    }
   ],
   "source": [
    "colin_kaepernick.info()"
   ]
  },
  {
   "cell_type": "code",
   "execution_count": 286,
   "metadata": {},
   "outputs": [
    {
     "data": {
      "text/html": [
       "<div>\n",
       "<style scoped>\n",
       "    .dataframe tbody tr th:only-of-type {\n",
       "        vertical-align: middle;\n",
       "    }\n",
       "\n",
       "    .dataframe tbody tr th {\n",
       "        vertical-align: top;\n",
       "    }\n",
       "\n",
       "    .dataframe thead th {\n",
       "        text-align: right;\n",
       "    }\n",
       "</style>\n",
       "<table border=\"1\" class=\"dataframe\">\n",
       "  <thead>\n",
       "    <tr style=\"text-align: right;\">\n",
       "      <th></th>\n",
       "      <th>Date</th>\n",
       "      <th>Price</th>\n",
       "      <th>Open</th>\n",
       "      <th>High</th>\n",
       "      <th>Low</th>\n",
       "      <th>Vol.</th>\n",
       "      <th>Change %</th>\n",
       "    </tr>\n",
       "  </thead>\n",
       "  <tbody>\n",
       "    <tr>\n",
       "      <th>0</th>\n",
       "      <td>Dec 30, 2018</td>\n",
       "      <td>74.65</td>\n",
       "      <td>73.98</td>\n",
       "      <td>75.12</td>\n",
       "      <td>71.21</td>\n",
       "      <td>28.13M</td>\n",
       "      <td>1.79%</td>\n",
       "    </tr>\n",
       "    <tr>\n",
       "      <th>1</th>\n",
       "      <td>Dec 23, 2018</td>\n",
       "      <td>73.34</td>\n",
       "      <td>71.40</td>\n",
       "      <td>74.46</td>\n",
       "      <td>68.08</td>\n",
       "      <td>33.77M</td>\n",
       "      <td>1.34%</td>\n",
       "    </tr>\n",
       "    <tr>\n",
       "      <th>2</th>\n",
       "      <td>Dec 16, 2018</td>\n",
       "      <td>72.37</td>\n",
       "      <td>71.37</td>\n",
       "      <td>74.29</td>\n",
       "      <td>66.53</td>\n",
       "      <td>69.58M</td>\n",
       "      <td>-0.22%</td>\n",
       "    </tr>\n",
       "    <tr>\n",
       "      <th>3</th>\n",
       "      <td>Dec 09, 2018</td>\n",
       "      <td>72.53</td>\n",
       "      <td>73.10</td>\n",
       "      <td>75.28</td>\n",
       "      <td>70.61</td>\n",
       "      <td>36.66M</td>\n",
       "      <td>-1.10%</td>\n",
       "    </tr>\n",
       "    <tr>\n",
       "      <th>4</th>\n",
       "      <td>Dec 02, 2018</td>\n",
       "      <td>73.34</td>\n",
       "      <td>77.10</td>\n",
       "      <td>79.00</td>\n",
       "      <td>72.87</td>\n",
       "      <td>34.84M</td>\n",
       "      <td>-2.37%</td>\n",
       "    </tr>\n",
       "  </tbody>\n",
       "</table>\n",
       "</div>"
      ],
      "text/plain": [
       "           Date  Price   Open   High    Low    Vol. Change %\n",
       "0  Dec 30, 2018  74.65  73.98  75.12  71.21  28.13M    1.79%\n",
       "1  Dec 23, 2018  73.34  71.40  74.46  68.08  33.77M    1.34%\n",
       "2  Dec 16, 2018  72.37  71.37  74.29  66.53  69.58M   -0.22%\n",
       "3  Dec 09, 2018  72.53  73.10  75.28  70.61  36.66M   -1.10%\n",
       "4  Dec 02, 2018  73.34  77.10  79.00  72.87  34.84M   -2.37%"
      ]
     },
     "execution_count": 286,
     "metadata": {},
     "output_type": "execute_result"
    }
   ],
   "source": [
    "stock_market_nike_2018 = pd.read_csv(\"Data/stock_market_nike_2018.csv\")\n",
    "stock_market_nike_2018.head()"
   ]
  },
  {
   "cell_type": "code",
   "execution_count": 287,
   "metadata": {},
   "outputs": [
    {
     "name": "stdout",
     "output_type": "stream",
     "text": [
      "<class 'pandas.core.frame.DataFrame'>\n",
      "RangeIndex: 52 entries, 0 to 51\n",
      "Data columns (total 2 columns):\n",
      " #   Column                 Non-Null Count  Dtype         \n",
      "---  ------                 --------------  -----         \n",
      " 0   Date                   52 non-null     datetime64[ns]\n",
      " 1   Nike Colin Kaepernick  52 non-null     int64         \n",
      "dtypes: datetime64[ns](1), int64(1)\n",
      "memory usage: 960.0 bytes\n"
     ]
    }
   ],
   "source": [
    "#Need same date format in both datasets\n",
    "colin_kaepernick['Date'] = pd.to_datetime(colin_kaepernick['Date'])\n",
    "colin_kaepernick.info()"
   ]
  },
  {
   "cell_type": "code",
   "execution_count": 288,
   "metadata": {},
   "outputs": [
    {
     "data": {
      "text/html": [
       "<div>\n",
       "<style scoped>\n",
       "    .dataframe tbody tr th:only-of-type {\n",
       "        vertical-align: middle;\n",
       "    }\n",
       "\n",
       "    .dataframe tbody tr th {\n",
       "        vertical-align: top;\n",
       "    }\n",
       "\n",
       "    .dataframe thead th {\n",
       "        text-align: right;\n",
       "    }\n",
       "</style>\n",
       "<table border=\"1\" class=\"dataframe\">\n",
       "  <thead>\n",
       "    <tr style=\"text-align: right;\">\n",
       "      <th></th>\n",
       "      <th>Date</th>\n",
       "      <th>Price</th>\n",
       "      <th>Open</th>\n",
       "      <th>High</th>\n",
       "      <th>Low</th>\n",
       "      <th>Vol.</th>\n",
       "      <th>Change %</th>\n",
       "    </tr>\n",
       "  </thead>\n",
       "  <tbody>\n",
       "    <tr>\n",
       "      <th>0</th>\n",
       "      <td>2018-12-30</td>\n",
       "      <td>74.65</td>\n",
       "      <td>73.98</td>\n",
       "      <td>75.12</td>\n",
       "      <td>71.21</td>\n",
       "      <td>28.13M</td>\n",
       "      <td>1.79%</td>\n",
       "    </tr>\n",
       "    <tr>\n",
       "      <th>1</th>\n",
       "      <td>2018-12-23</td>\n",
       "      <td>73.34</td>\n",
       "      <td>71.40</td>\n",
       "      <td>74.46</td>\n",
       "      <td>68.08</td>\n",
       "      <td>33.77M</td>\n",
       "      <td>1.34%</td>\n",
       "    </tr>\n",
       "    <tr>\n",
       "      <th>2</th>\n",
       "      <td>2018-12-16</td>\n",
       "      <td>72.37</td>\n",
       "      <td>71.37</td>\n",
       "      <td>74.29</td>\n",
       "      <td>66.53</td>\n",
       "      <td>69.58M</td>\n",
       "      <td>-0.22%</td>\n",
       "    </tr>\n",
       "    <tr>\n",
       "      <th>3</th>\n",
       "      <td>2018-12-09</td>\n",
       "      <td>72.53</td>\n",
       "      <td>73.10</td>\n",
       "      <td>75.28</td>\n",
       "      <td>70.61</td>\n",
       "      <td>36.66M</td>\n",
       "      <td>-1.10%</td>\n",
       "    </tr>\n",
       "    <tr>\n",
       "      <th>4</th>\n",
       "      <td>2018-12-02</td>\n",
       "      <td>73.34</td>\n",
       "      <td>77.10</td>\n",
       "      <td>79.00</td>\n",
       "      <td>72.87</td>\n",
       "      <td>34.84M</td>\n",
       "      <td>-2.37%</td>\n",
       "    </tr>\n",
       "  </tbody>\n",
       "</table>\n",
       "</div>"
      ],
      "text/plain": [
       "        Date  Price   Open   High    Low    Vol. Change %\n",
       "0 2018-12-30  74.65  73.98  75.12  71.21  28.13M    1.79%\n",
       "1 2018-12-23  73.34  71.40  74.46  68.08  33.77M    1.34%\n",
       "2 2018-12-16  72.37  71.37  74.29  66.53  69.58M   -0.22%\n",
       "3 2018-12-09  72.53  73.10  75.28  70.61  36.66M   -1.10%\n",
       "4 2018-12-02  73.34  77.10  79.00  72.87  34.84M   -2.37%"
      ]
     },
     "execution_count": 288,
     "metadata": {},
     "output_type": "execute_result"
    }
   ],
   "source": [
    "stock_market_nike_2018['Date'] = pd.to_datetime(stock_market_nike_2018['Date'])\n",
    "stock_market_nike_2018.head()"
   ]
  },
  {
   "cell_type": "code",
   "execution_count": 289,
   "metadata": {},
   "outputs": [
    {
     "data": {
      "text/html": [
       "<div>\n",
       "<style scoped>\n",
       "    .dataframe tbody tr th:only-of-type {\n",
       "        vertical-align: middle;\n",
       "    }\n",
       "\n",
       "    .dataframe tbody tr th {\n",
       "        vertical-align: top;\n",
       "    }\n",
       "\n",
       "    .dataframe thead th {\n",
       "        text-align: right;\n",
       "    }\n",
       "</style>\n",
       "<table border=\"1\" class=\"dataframe\">\n",
       "  <thead>\n",
       "    <tr style=\"text-align: right;\">\n",
       "      <th></th>\n",
       "      <th>Date</th>\n",
       "      <th>Price</th>\n",
       "      <th>Open</th>\n",
       "      <th>High</th>\n",
       "      <th>Low</th>\n",
       "      <th>Vol.</th>\n",
       "      <th>Change %</th>\n",
       "    </tr>\n",
       "  </thead>\n",
       "  <tbody>\n",
       "    <tr>\n",
       "      <th>51</th>\n",
       "      <td>2018-01-07</td>\n",
       "      <td>64.67</td>\n",
       "      <td>64.15</td>\n",
       "      <td>64.72</td>\n",
       "      <td>63.44</td>\n",
       "      <td>35.93M</td>\n",
       "      <td>1.08%</td>\n",
       "    </tr>\n",
       "    <tr>\n",
       "      <th>50</th>\n",
       "      <td>2018-01-14</td>\n",
       "      <td>67.21</td>\n",
       "      <td>64.78</td>\n",
       "      <td>67.24</td>\n",
       "      <td>63.08</td>\n",
       "      <td>35.09M</td>\n",
       "      <td>3.93%</td>\n",
       "    </tr>\n",
       "    <tr>\n",
       "      <th>49</th>\n",
       "      <td>2018-01-21</td>\n",
       "      <td>68.04</td>\n",
       "      <td>66.55</td>\n",
       "      <td>68.64</td>\n",
       "      <td>65.76</td>\n",
       "      <td>34.32M</td>\n",
       "      <td>1.23%</td>\n",
       "    </tr>\n",
       "    <tr>\n",
       "      <th>48</th>\n",
       "      <td>2018-01-28</td>\n",
       "      <td>67.22</td>\n",
       "      <td>67.82</td>\n",
       "      <td>68.83</td>\n",
       "      <td>66.70</td>\n",
       "      <td>37.59M</td>\n",
       "      <td>-1.21%</td>\n",
       "    </tr>\n",
       "    <tr>\n",
       "      <th>47</th>\n",
       "      <td>2018-02-04</td>\n",
       "      <td>65.49</td>\n",
       "      <td>66.63</td>\n",
       "      <td>67.21</td>\n",
       "      <td>62.09</td>\n",
       "      <td>62.61M</td>\n",
       "      <td>-2.57%</td>\n",
       "    </tr>\n",
       "  </tbody>\n",
       "</table>\n",
       "</div>"
      ],
      "text/plain": [
       "         Date  Price   Open   High    Low    Vol. Change %\n",
       "51 2018-01-07  64.67  64.15  64.72  63.44  35.93M    1.08%\n",
       "50 2018-01-14  67.21  64.78  67.24  63.08  35.09M    3.93%\n",
       "49 2018-01-21  68.04  66.55  68.64  65.76  34.32M    1.23%\n",
       "48 2018-01-28  67.22  67.82  68.83  66.70  37.59M   -1.21%\n",
       "47 2018-02-04  65.49  66.63  67.21  62.09  62.61M   -2.57%"
      ]
     },
     "execution_count": 289,
     "metadata": {},
     "output_type": "execute_result"
    }
   ],
   "source": [
    "#Changing the order of 'Date' column\n",
    "stock_market_nike_2018 = stock_market_nike_2018.sort_values('Date',ascending=True)\n",
    "stock_market_nike_2018.head()"
   ]
  },
  {
   "cell_type": "code",
   "execution_count": 290,
   "metadata": {},
   "outputs": [
    {
     "data": {
      "text/html": [
       "<div>\n",
       "<style scoped>\n",
       "    .dataframe tbody tr th:only-of-type {\n",
       "        vertical-align: middle;\n",
       "    }\n",
       "\n",
       "    .dataframe tbody tr th {\n",
       "        vertical-align: top;\n",
       "    }\n",
       "\n",
       "    .dataframe thead th {\n",
       "        text-align: right;\n",
       "    }\n",
       "</style>\n",
       "<table border=\"1\" class=\"dataframe\">\n",
       "  <thead>\n",
       "    <tr style=\"text-align: right;\">\n",
       "      <th></th>\n",
       "      <th>Date</th>\n",
       "      <th>Nike Colin Kaepernick</th>\n",
       "      <th>Price</th>\n",
       "      <th>Open</th>\n",
       "      <th>High</th>\n",
       "      <th>Low</th>\n",
       "      <th>Vol.</th>\n",
       "      <th>Change %</th>\n",
       "    </tr>\n",
       "  </thead>\n",
       "  <tbody>\n",
       "    <tr>\n",
       "      <th>0</th>\n",
       "      <td>2018-01-07</td>\n",
       "      <td>2</td>\n",
       "      <td>64.67</td>\n",
       "      <td>64.15</td>\n",
       "      <td>64.72</td>\n",
       "      <td>63.44</td>\n",
       "      <td>35.93M</td>\n",
       "      <td>1.08%</td>\n",
       "    </tr>\n",
       "    <tr>\n",
       "      <th>1</th>\n",
       "      <td>2018-01-14</td>\n",
       "      <td>2</td>\n",
       "      <td>67.21</td>\n",
       "      <td>64.78</td>\n",
       "      <td>67.24</td>\n",
       "      <td>63.08</td>\n",
       "      <td>35.09M</td>\n",
       "      <td>3.93%</td>\n",
       "    </tr>\n",
       "    <tr>\n",
       "      <th>2</th>\n",
       "      <td>2018-01-21</td>\n",
       "      <td>2</td>\n",
       "      <td>68.04</td>\n",
       "      <td>66.55</td>\n",
       "      <td>68.64</td>\n",
       "      <td>65.76</td>\n",
       "      <td>34.32M</td>\n",
       "      <td>1.23%</td>\n",
       "    </tr>\n",
       "    <tr>\n",
       "      <th>3</th>\n",
       "      <td>2018-01-28</td>\n",
       "      <td>2</td>\n",
       "      <td>67.22</td>\n",
       "      <td>67.82</td>\n",
       "      <td>68.83</td>\n",
       "      <td>66.70</td>\n",
       "      <td>37.59M</td>\n",
       "      <td>-1.21%</td>\n",
       "    </tr>\n",
       "    <tr>\n",
       "      <th>4</th>\n",
       "      <td>2018-02-04</td>\n",
       "      <td>3</td>\n",
       "      <td>65.49</td>\n",
       "      <td>66.63</td>\n",
       "      <td>67.21</td>\n",
       "      <td>62.09</td>\n",
       "      <td>62.61M</td>\n",
       "      <td>-2.57%</td>\n",
       "    </tr>\n",
       "  </tbody>\n",
       "</table>\n",
       "</div>"
      ],
      "text/plain": [
       "        Date  Nike Colin Kaepernick  Price   Open   High    Low    Vol.  \\\n",
       "0 2018-01-07                      2  64.67  64.15  64.72  63.44  35.93M   \n",
       "1 2018-01-14                      2  67.21  64.78  67.24  63.08  35.09M   \n",
       "2 2018-01-21                      2  68.04  66.55  68.64  65.76  34.32M   \n",
       "3 2018-01-28                      2  67.22  67.82  68.83  66.70  37.59M   \n",
       "4 2018-02-04                      3  65.49  66.63  67.21  62.09  62.61M   \n",
       "\n",
       "  Change %  \n",
       "0    1.08%  \n",
       "1    3.93%  \n",
       "2    1.23%  \n",
       "3   -1.21%  \n",
       "4   -2.57%  "
      ]
     },
     "execution_count": 290,
     "metadata": {},
     "output_type": "execute_result"
    }
   ],
   "source": [
    "nike_2018 = pd.merge(colin_kaepernick, stock_market_nike_2018, on='Date')\n",
    "nike_2018.head()"
   ]
  },
  {
   "cell_type": "code",
   "execution_count": 334,
   "metadata": {},
   "outputs": [],
   "source": [
    "#Exporting dataset\n",
    "nike_2018.to_csv(\"Data/nike_2018_clean_dataset.csv\")"
   ]
  },
  {
   "cell_type": "code",
   "execution_count": 291,
   "metadata": {},
   "outputs": [
    {
     "data": {
      "image/png": "[encoded data removed]",
      "text/plain": [
       "<Figure size 864x576 with 2 Axes>"
      ]
     },
     "metadata": {
      "needs_background": "light"
     },
     "output_type": "display_data"
    }
   ],
   "source": [
    "fig, ax1 = plt.subplots(figsize=(12,8))\n",
    "\n",
    "color = 'tab:red'\n",
    "ax1.set_xlabel('Date')\n",
    "ax1.set_ylabel('Nike Colin Kaepernick', color=color)\n",
    "ax1.plot(nike_2018['Date'], nike_2018['Nike Colin Kaepernick'], color=color)\n",
    "ax1.tick_params(axis='y', labelcolor=color)\n",
    "\n",
    "ax2 = ax1.twinx()\n",
    "\n",
    "color = 'tab:blue'\n",
    "ax2.set_ylabel('Price', color=color)\n",
    "ax2.plot(nike_2018['Date'], nike_2018['Price'], color=color)\n",
    "ax2.tick_params(axis='y', labelcolor=color)\n",
    "\n",
    "\n",
    "fig.tight_layout()\n",
    "plt.show()"
   ]
  },
  {
   "cell_type": "markdown",
   "metadata": {},
   "source": [
    "### John Donahoe, new CEO of Nike:"
   ]
  },
  {
   "cell_type": "code",
   "execution_count": 324,
   "metadata": {},
   "outputs": [
    {
     "data": {
      "text/html": [
       "<div>\n",
       "<style scoped>\n",
       "    .dataframe tbody tr th:only-of-type {\n",
       "        vertical-align: middle;\n",
       "    }\n",
       "\n",
       "    .dataframe tbody tr th {\n",
       "        vertical-align: top;\n",
       "    }\n",
       "\n",
       "    .dataframe thead th {\n",
       "        text-align: right;\n",
       "    }\n",
       "</style>\n",
       "<table border=\"1\" class=\"dataframe\">\n",
       "  <thead>\n",
       "    <tr style=\"text-align: right;\">\n",
       "      <th></th>\n",
       "      <th>Semana</th>\n",
       "      <th>John Donahoe: (Todo el mundo)</th>\n",
       "    </tr>\n",
       "  </thead>\n",
       "  <tbody>\n",
       "    <tr>\n",
       "      <th>0</th>\n",
       "      <td>2019-01-06</td>\n",
       "      <td>2</td>\n",
       "    </tr>\n",
       "    <tr>\n",
       "      <th>1</th>\n",
       "      <td>2019-01-13</td>\n",
       "      <td>7</td>\n",
       "    </tr>\n",
       "    <tr>\n",
       "      <th>2</th>\n",
       "      <td>2019-01-20</td>\n",
       "      <td>5</td>\n",
       "    </tr>\n",
       "    <tr>\n",
       "      <th>3</th>\n",
       "      <td>2019-01-27</td>\n",
       "      <td>4</td>\n",
       "    </tr>\n",
       "    <tr>\n",
       "      <th>4</th>\n",
       "      <td>2019-02-03</td>\n",
       "      <td>4</td>\n",
       "    </tr>\n",
       "  </tbody>\n",
       "</table>\n",
       "</div>"
      ],
      "text/plain": [
       "       Semana  John Donahoe: (Todo el mundo)\n",
       "0  2019-01-06                              2\n",
       "1  2019-01-13                              7\n",
       "2  2019-01-20                              5\n",
       "3  2019-01-27                              4\n",
       "4  2019-02-03                              4"
      ]
     },
     "execution_count": 324,
     "metadata": {},
     "output_type": "execute_result"
    }
   ],
   "source": [
    "#Importing Google trends 'John Donahoe' csv from 2019\n",
    "john_donahoe = pd.read_csv(\"Data/google_trends_john_donahoe_2019.csv\", skiprows=2)\n",
    "john_donahoe.head()"
   ]
  },
  {
   "cell_type": "code",
   "execution_count": 325,
   "metadata": {},
   "outputs": [
    {
     "data": {
      "text/plain": [
       "Index(['Semana', 'John Donahoe: (Todo el mundo)'], dtype='object')"
      ]
     },
     "execution_count": 325,
     "metadata": {},
     "output_type": "execute_result"
    }
   ],
   "source": [
    "john_donahoe.columns"
   ]
  },
  {
   "cell_type": "code",
   "execution_count": 326,
   "metadata": {},
   "outputs": [
    {
     "data": {
      "text/plain": [
       "Index(['Date', 'John Donahoe Nike'], dtype='object')"
      ]
     },
     "execution_count": 326,
     "metadata": {},
     "output_type": "execute_result"
    }
   ],
   "source": [
    "#Renaming columns\n",
    "john_donahoe.rename(columns = {'Semana':'Date', \n",
    "                                   'John Donahoe: (Todo el mundo)': 'John Donahoe Nike'}, inplace=True)\n",
    "john_donahoe.columns"
   ]
  },
  {
   "cell_type": "code",
   "execution_count": 331,
   "metadata": {},
   "outputs": [
    {
     "name": "stdout",
     "output_type": "stream",
     "text": [
      "<class 'pandas.core.frame.DataFrame'>\n",
      "RangeIndex: 52 entries, 0 to 51\n",
      "Data columns (total 2 columns):\n",
      " #   Column             Non-Null Count  Dtype         \n",
      "---  ------             --------------  -----         \n",
      " 0   Date               52 non-null     datetime64[ns]\n",
      " 1   John Donahoe Nike  52 non-null     int64         \n",
      "dtypes: datetime64[ns](1), int64(1)\n",
      "memory usage: 960.0 bytes\n"
     ]
    }
   ],
   "source": [
    "#Need same date format in both datasets\n",
    "john_donahoe['Date'] = pd.to_datetime(john_donahoe['Date'])\n",
    "john_donahoe.info()"
   ]
  },
  {
   "cell_type": "code",
   "execution_count": 327,
   "metadata": {},
   "outputs": [],
   "source": [
    "#Importing stock market from 2019\n",
    "stock_market_nike_2019 = pd.read_csv(\"Data/stock_market_nike_2019.csv\")"
   ]
  },
  {
   "cell_type": "code",
   "execution_count": 328,
   "metadata": {},
   "outputs": [
    {
     "data": {
      "text/html": [
       "<div>\n",
       "<style scoped>\n",
       "    .dataframe tbody tr th:only-of-type {\n",
       "        vertical-align: middle;\n",
       "    }\n",
       "\n",
       "    .dataframe tbody tr th {\n",
       "        vertical-align: top;\n",
       "    }\n",
       "\n",
       "    .dataframe thead th {\n",
       "        text-align: right;\n",
       "    }\n",
       "</style>\n",
       "<table border=\"1\" class=\"dataframe\">\n",
       "  <thead>\n",
       "    <tr style=\"text-align: right;\">\n",
       "      <th></th>\n",
       "      <th>Date</th>\n",
       "      <th>Price</th>\n",
       "      <th>Open</th>\n",
       "      <th>High</th>\n",
       "      <th>Low</th>\n",
       "      <th>Vol.</th>\n",
       "      <th>Change %</th>\n",
       "    </tr>\n",
       "  </thead>\n",
       "  <tbody>\n",
       "    <tr>\n",
       "      <th>0</th>\n",
       "      <td>2019-12-29</td>\n",
       "      <td>101.92</td>\n",
       "      <td>101.54</td>\n",
       "      <td>102.21</td>\n",
       "      <td>100.31</td>\n",
       "      <td>16.90M</td>\n",
       "      <td>0.34%</td>\n",
       "    </tr>\n",
       "    <tr>\n",
       "      <th>1</th>\n",
       "      <td>2019-12-22</td>\n",
       "      <td>101.57</td>\n",
       "      <td>100.23</td>\n",
       "      <td>101.79</td>\n",
       "      <td>99.55</td>\n",
       "      <td>18.70M</td>\n",
       "      <td>1.61%</td>\n",
       "    </tr>\n",
       "    <tr>\n",
       "      <th>2</th>\n",
       "      <td>2019-12-15</td>\n",
       "      <td>99.96</td>\n",
       "      <td>98.14</td>\n",
       "      <td>101.40</td>\n",
       "      <td>98.06</td>\n",
       "      <td>52.63M</td>\n",
       "      <td>2.24%</td>\n",
       "    </tr>\n",
       "    <tr>\n",
       "      <th>3</th>\n",
       "      <td>2019-12-08</td>\n",
       "      <td>97.77</td>\n",
       "      <td>97.02</td>\n",
       "      <td>98.29</td>\n",
       "      <td>96.16</td>\n",
       "      <td>25.14M</td>\n",
       "      <td>0.79%</td>\n",
       "    </tr>\n",
       "    <tr>\n",
       "      <th>4</th>\n",
       "      <td>2019-12-01</td>\n",
       "      <td>97.00</td>\n",
       "      <td>94.09</td>\n",
       "      <td>97.31</td>\n",
       "      <td>91.31</td>\n",
       "      <td>27.66M</td>\n",
       "      <td>3.75%</td>\n",
       "    </tr>\n",
       "  </tbody>\n",
       "</table>\n",
       "</div>"
      ],
      "text/plain": [
       "        Date   Price    Open    High     Low    Vol. Change %\n",
       "0 2019-12-29  101.92  101.54  102.21  100.31  16.90M    0.34%\n",
       "1 2019-12-22  101.57  100.23  101.79   99.55  18.70M    1.61%\n",
       "2 2019-12-15   99.96   98.14  101.40   98.06  52.63M    2.24%\n",
       "3 2019-12-08   97.77   97.02   98.29   96.16  25.14M    0.79%\n",
       "4 2019-12-01   97.00   94.09   97.31   91.31  27.66M    3.75%"
      ]
     },
     "execution_count": 328,
     "metadata": {},
     "output_type": "execute_result"
    }
   ],
   "source": [
    "stock_market_nike_2019['Date'] = pd.to_datetime(stock_market_nike_2019['Date'])\n",
    "stock_market_nike_2019.head()"
   ]
  },
  {
   "cell_type": "code",
   "execution_count": 329,
   "metadata": {},
   "outputs": [
    {
     "data": {
      "text/html": [
       "<div>\n",
       "<style scoped>\n",
       "    .dataframe tbody tr th:only-of-type {\n",
       "        vertical-align: middle;\n",
       "    }\n",
       "\n",
       "    .dataframe tbody tr th {\n",
       "        vertical-align: top;\n",
       "    }\n",
       "\n",
       "    .dataframe thead th {\n",
       "        text-align: right;\n",
       "    }\n",
       "</style>\n",
       "<table border=\"1\" class=\"dataframe\">\n",
       "  <thead>\n",
       "    <tr style=\"text-align: right;\">\n",
       "      <th></th>\n",
       "      <th>Date</th>\n",
       "      <th>Price</th>\n",
       "      <th>Open</th>\n",
       "      <th>High</th>\n",
       "      <th>Low</th>\n",
       "      <th>Vol.</th>\n",
       "      <th>Change %</th>\n",
       "    </tr>\n",
       "  </thead>\n",
       "  <tbody>\n",
       "    <tr>\n",
       "      <th>51</th>\n",
       "      <td>2019-01-06</td>\n",
       "      <td>76.04</td>\n",
       "      <td>74.74</td>\n",
       "      <td>77.40</td>\n",
       "      <td>74.30</td>\n",
       "      <td>47.42M</td>\n",
       "      <td>1.86%</td>\n",
       "    </tr>\n",
       "    <tr>\n",
       "      <th>50</th>\n",
       "      <td>2019-01-13</td>\n",
       "      <td>80.45</td>\n",
       "      <td>75.46</td>\n",
       "      <td>80.97</td>\n",
       "      <td>75.46</td>\n",
       "      <td>35.73M</td>\n",
       "      <td>5.80%</td>\n",
       "    </tr>\n",
       "    <tr>\n",
       "      <th>49</th>\n",
       "      <td>2019-01-20</td>\n",
       "      <td>80.61</td>\n",
       "      <td>80.33</td>\n",
       "      <td>81.40</td>\n",
       "      <td>79.55</td>\n",
       "      <td>23.82M</td>\n",
       "      <td>0.20%</td>\n",
       "    </tr>\n",
       "    <tr>\n",
       "      <th>48</th>\n",
       "      <td>2019-01-27</td>\n",
       "      <td>81.51</td>\n",
       "      <td>79.80</td>\n",
       "      <td>81.95</td>\n",
       "      <td>79.74</td>\n",
       "      <td>28.79M</td>\n",
       "      <td>1.12%</td>\n",
       "    </tr>\n",
       "    <tr>\n",
       "      <th>47</th>\n",
       "      <td>2019-02-03</td>\n",
       "      <td>82.36</td>\n",
       "      <td>81.22</td>\n",
       "      <td>83.19</td>\n",
       "      <td>80.83</td>\n",
       "      <td>23.08M</td>\n",
       "      <td>1.04%</td>\n",
       "    </tr>\n",
       "  </tbody>\n",
       "</table>\n",
       "</div>"
      ],
      "text/plain": [
       "         Date  Price   Open   High    Low    Vol. Change %\n",
       "51 2019-01-06  76.04  74.74  77.40  74.30  47.42M    1.86%\n",
       "50 2019-01-13  80.45  75.46  80.97  75.46  35.73M    5.80%\n",
       "49 2019-01-20  80.61  80.33  81.40  79.55  23.82M    0.20%\n",
       "48 2019-01-27  81.51  79.80  81.95  79.74  28.79M    1.12%\n",
       "47 2019-02-03  82.36  81.22  83.19  80.83  23.08M    1.04%"
      ]
     },
     "execution_count": 329,
     "metadata": {},
     "output_type": "execute_result"
    }
   ],
   "source": [
    "#Changing the order of 'Date' column\n",
    "stock_market_nike_2019 = stock_market_nike_2019.sort_values('Date',ascending=True)\n",
    "stock_market_nike_2019.head()"
   ]
  },
  {
   "cell_type": "code",
   "execution_count": 332,
   "metadata": {},
   "outputs": [
    {
     "data": {
      "text/html": [
       "<div>\n",
       "<style scoped>\n",
       "    .dataframe tbody tr th:only-of-type {\n",
       "        vertical-align: middle;\n",
       "    }\n",
       "\n",
       "    .dataframe tbody tr th {\n",
       "        vertical-align: top;\n",
       "    }\n",
       "\n",
       "    .dataframe thead th {\n",
       "        text-align: right;\n",
       "    }\n",
       "</style>\n",
       "<table border=\"1\" class=\"dataframe\">\n",
       "  <thead>\n",
       "    <tr style=\"text-align: right;\">\n",
       "      <th></th>\n",
       "      <th>Date</th>\n",
       "      <th>John Donahoe Nike</th>\n",
       "      <th>Price</th>\n",
       "      <th>Open</th>\n",
       "      <th>High</th>\n",
       "      <th>Low</th>\n",
       "      <th>Vol.</th>\n",
       "      <th>Change %</th>\n",
       "    </tr>\n",
       "  </thead>\n",
       "  <tbody>\n",
       "    <tr>\n",
       "      <th>0</th>\n",
       "      <td>2019-01-06</td>\n",
       "      <td>2</td>\n",
       "      <td>76.04</td>\n",
       "      <td>74.74</td>\n",
       "      <td>77.40</td>\n",
       "      <td>74.30</td>\n",
       "      <td>47.42M</td>\n",
       "      <td>1.86%</td>\n",
       "    </tr>\n",
       "    <tr>\n",
       "      <th>1</th>\n",
       "      <td>2019-01-13</td>\n",
       "      <td>7</td>\n",
       "      <td>80.45</td>\n",
       "      <td>75.46</td>\n",
       "      <td>80.97</td>\n",
       "      <td>75.46</td>\n",
       "      <td>35.73M</td>\n",
       "      <td>5.80%</td>\n",
       "    </tr>\n",
       "    <tr>\n",
       "      <th>2</th>\n",
       "      <td>2019-01-20</td>\n",
       "      <td>5</td>\n",
       "      <td>80.61</td>\n",
       "      <td>80.33</td>\n",
       "      <td>81.40</td>\n",
       "      <td>79.55</td>\n",
       "      <td>23.82M</td>\n",
       "      <td>0.20%</td>\n",
       "    </tr>\n",
       "    <tr>\n",
       "      <th>3</th>\n",
       "      <td>2019-01-27</td>\n",
       "      <td>4</td>\n",
       "      <td>81.51</td>\n",
       "      <td>79.80</td>\n",
       "      <td>81.95</td>\n",
       "      <td>79.74</td>\n",
       "      <td>28.79M</td>\n",
       "      <td>1.12%</td>\n",
       "    </tr>\n",
       "    <tr>\n",
       "      <th>4</th>\n",
       "      <td>2019-02-03</td>\n",
       "      <td>4</td>\n",
       "      <td>82.36</td>\n",
       "      <td>81.22</td>\n",
       "      <td>83.19</td>\n",
       "      <td>80.83</td>\n",
       "      <td>23.08M</td>\n",
       "      <td>1.04%</td>\n",
       "    </tr>\n",
       "  </tbody>\n",
       "</table>\n",
       "</div>"
      ],
      "text/plain": [
       "        Date  John Donahoe Nike  Price   Open   High    Low    Vol. Change %\n",
       "0 2019-01-06                  2  76.04  74.74  77.40  74.30  47.42M    1.86%\n",
       "1 2019-01-13                  7  80.45  75.46  80.97  75.46  35.73M    5.80%\n",
       "2 2019-01-20                  5  80.61  80.33  81.40  79.55  23.82M    0.20%\n",
       "3 2019-01-27                  4  81.51  79.80  81.95  79.74  28.79M    1.12%\n",
       "4 2019-02-03                  4  82.36  81.22  83.19  80.83  23.08M    1.04%"
      ]
     },
     "execution_count": 332,
     "metadata": {},
     "output_type": "execute_result"
    }
   ],
   "source": [
    "nike_2019 = pd.merge(john_donahoe, stock_market_nike_2019, on='Date')\n",
    "nike_2019.head()"
   ]
  },
  {
   "cell_type": "code",
   "execution_count": 333,
   "metadata": {},
   "outputs": [
    {
     "data": {
      "image/png": "[encoded data removed]",
      "text/plain": [
       "<Figure size 864x576 with 2 Axes>"
      ]
     },
     "metadata": {
      "needs_background": "light"
     },
     "output_type": "display_data"
    }
   ],
   "source": [
    "fig, ax1 = plt.subplots(figsize=(12,8))\n",
    "\n",
    "color = 'tab:red'\n",
    "ax1.set_xlabel('Date')\n",
    "ax1.set_ylabel('John Donahoe Nike', color=color)\n",
    "ax1.plot(nike_2019['Date'], nike_2019['John Donahoe Nike'], color=color)\n",
    "ax1.tick_params(axis='y', labelcolor=color)\n",
    "\n",
    "ax2 = ax1.twinx()\n",
    "\n",
    "color = 'tab:blue'\n",
    "ax2.set_ylabel('Price', color=color)\n",
    "ax2.plot(nike_2019['Date'], nike_2019['Price'], color=color)\n",
    "ax2.tick_params(axis='y', labelcolor=color)\n",
    "\n",
    "\n",
    "fig.tight_layout()\n",
    "plt.show()"
   ]
  },
  {
   "cell_type": "code",
   "execution_count": null,
   "metadata": {},
   "outputs": [],
   "source": []
  }
 ],
 "metadata": {
  "kernelspec": {
   "display_name": "Python 3",
   "language": "python",
   "name": "python3"
  },
  "language_info": {
   "codemirror_mode": {
    "name": "ipython",
    "version": 3
   },
   "file_extension": ".py",
   "mimetype": "text/x-python",
   "name": "python",
   "nbconvert_exporter": "python",
   "pygments_lexer": "ipython3",
   "version": "3.8.3"
  }
 },
 "nbformat": 4,
 "nbformat_minor": 4
}
